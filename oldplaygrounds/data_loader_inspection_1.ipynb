{
 "cells": [
  {
   "cell_type": "code",
   "execution_count": 1,
   "id": "fe6e6761",
   "metadata": {},
   "outputs": [
    {
     "name": "stdout",
     "output_type": "stream",
     "text": [
      "/home/brimmann/works/llm-recipes\n"
     ]
    },
    {
     "name": "stderr",
     "output_type": "stream",
     "text": [
      "/home/brimmann/works/llm-recipes/.venv/lib/python3.9/site-packages/IPython/core/magics/osm.py:417: UserWarning: using dhist requires you to install the `pickleshare` library.\n",
      "  self.shell.db['dhist'] = compress_dhist(dhist)[-100:]\n"
     ]
    }
   ],
   "source": [
    "%cd /home/brimmann/works/llm-recipes"
   ]
  },
  {
   "cell_type": "code",
   "execution_count": 2,
   "id": "4d804463",
   "metadata": {},
   "outputs": [],
   "source": [
    "from data.data_utils import get_dataloader\n",
    "from configs.datasets import dataset as DatasetConfig\n",
    "from configs.training import train_config as TrainConfig\n",
    "from configs.distillation import distillation_config as DistillationConfig"
   ]
  },
  {
   "cell_type": "code",
   "execution_count": 3,
   "id": "373c037b",
   "metadata": {},
   "outputs": [],
   "source": [
    "dataset_config = DatasetConfig()\n",
    "train_config = TrainConfig()\n",
    "distill_config = DistillationConfig()\n",
    "train_config.model_name = \"EleutherAI/pythia-70m-deduped\"\n",
    "distill_config.model_name = \"mistralai/Mistral-7B-Instruct-v0.2\"\n",
    "train_config.batch_size_training = 1\n",
    "train_config.num_workers_dataloader = 1\n",
    "dataset_config.file = \"datasets_m/loader/squad.py\"\n",
    "dataset_config.xrag = False"
   ]
  },
  {
   "cell_type": "code",
   "execution_count": 4,
   "id": "183e2487",
   "metadata": {},
   "outputs": [],
   "source": [
    "from transformers import AutoTokenizer\n",
    "student_tokenizer = AutoTokenizer.from_pretrained(train_config.model_name)\n",
    "teacher_tokenizer = AutoTokenizer.from_pretrained(distill_config.model_name)\n",
    "student_tokenizer.pad_token_id = student_tokenizer.eos_token_id\n",
    "teacher_tokenizer.pad_token_id = teacher_tokenizer.eos_token_id"
   ]
  },
  {
   "cell_type": "code",
   "execution_count": 5,
   "id": "847b03eb",
   "metadata": {},
   "outputs": [
    {
     "data": {
      "application/vnd.jupyter.widget-view+json": {
       "model_id": "035c61f6d33446d98480e4fccf31ae69",
       "version_major": 2,
       "version_minor": 0
      },
      "text/plain": [
       "Map:   0%|          | 0/3 [00:00<?, ? examples/s]"
      ]
     },
     "metadata": {},
     "output_type": "display_data"
    },
    {
     "name": "stdout",
     "output_type": "stream",
     "text": [
      "Few shot is zero\n",
      "Few shot is zero\n",
      "Few shot is zero\n",
      "--> Training Set Length = 3\n"
     ]
    },
    {
     "data": {
      "application/vnd.jupyter.widget-view+json": {
       "model_id": "a1966aecba4e41cdaf38280a0281f610",
       "version_major": 2,
       "version_minor": 0
      },
      "text/plain": [
       "Map:   0%|          | 0/1 [00:00<?, ? examples/s]"
      ]
     },
     "metadata": {},
     "output_type": "display_data"
    },
    {
     "name": "stdout",
     "output_type": "stream",
     "text": [
      "Few shot is zero\n",
      "--> Validation Set Length = 1\n"
     ]
    }
   ],
   "source": [
    "student_train_dldr, student_eval_dldr = get_dataloader(dataset_config, train_config, student_tokenizer, 0, distill_config)"
   ]
  },
  {
   "cell_type": "code",
   "execution_count": 6,
   "id": "78c7ecb2",
   "metadata": {},
   "outputs": [
    {
     "name": "stderr",
     "output_type": "stream",
     "text": [
      "huggingface/tokenizers: The current process just got forked, after parallelism has already been used. Disabling parallelism to avoid deadlocks...\n",
      "To disable this warning, you can either:\n",
      "\t- Avoid using `tokenizers` before the fork if possible\n",
      "\t- Explicitly set the environment variable TOKENIZERS_PARALLELISM=(true | false)\n"
     ]
    },
    {
     "data": {
      "text/plain": [
       "dict_keys(['input_ids', 'attention_mask', 'labels'])"
      ]
     },
     "execution_count": 6,
     "metadata": {},
     "output_type": "execute_result"
    }
   ],
   "source": [
    "next(iter(student_train_dldr)).keys()"
   ]
  },
  {
   "cell_type": "code",
   "execution_count": 6,
   "id": "953e90bc",
   "metadata": {},
   "outputs": [
    {
     "data": {
      "text/plain": [
       "dict_keys(['input_ids', 'attention_mask', 'retrieval_embeds', 'labels'])"
      ]
     },
     "execution_count": 6,
     "metadata": {},
     "output_type": "execute_result"
    }
   ],
   "source": [
    "next(iter(student_train_dldr)).keys()"
   ]
  },
  {
   "cell_type": "code",
   "execution_count": null,
   "id": "57ed40d9",
   "metadata": {},
   "outputs": [],
   "source": [
    "teacher_train_dldr, teacher_eval_dldr = get_dataloader(dataset_config, train_config, teacher_tokenizer, 0, distill_config)"
   ]
  },
  {
   "cell_type": "code",
   "execution_count": null,
   "id": "2489fa33",
   "metadata": {},
   "outputs": [],
   "source": [
    "len(teacher_train_dldr)"
   ]
  },
  {
   "cell_type": "code",
   "execution_count": null,
   "id": "55a2e393",
   "metadata": {},
   "outputs": [],
   "source": [
    "itr1 = iter(teacher_train_dldr)\n",
    "itr2 = iter(student_train_dldr)"
   ]
  },
  {
   "cell_type": "code",
   "execution_count": null,
   "id": "d1c4684d",
   "metadata": {},
   "outputs": [],
   "source": [
    "next(itr1).keys()"
   ]
  },
  {
   "cell_type": "code",
   "execution_count": null,
   "id": "2059adff",
   "metadata": {},
   "outputs": [],
   "source": [
    "print(teacher_tokenizer.decode(next(itr1)[\"input_ids\"][0], skip_special_tokens=False))"
   ]
  },
  {
   "cell_type": "code",
   "execution_count": null,
   "id": "72417ee3",
   "metadata": {},
   "outputs": [],
   "source": [
    "print(student_tokenizer.decode(next(itr2)[\"input_ids\"][0], skip_special_tokens=False))"
   ]
  },
  {
   "cell_type": "code",
   "execution_count": null,
   "id": "75067e24",
   "metadata": {},
   "outputs": [],
   "source": []
  }
 ],
 "metadata": {
  "kernelspec": {
   "display_name": ".venv",
   "language": "python",
   "name": "python3"
  },
  "language_info": {
   "codemirror_mode": {
    "name": "ipython",
    "version": 3
   },
   "file_extension": ".py",
   "mimetype": "text/x-python",
   "name": "python",
   "nbconvert_exporter": "python",
   "pygments_lexer": "ipython3",
   "version": "3.9.23"
  }
 },
 "nbformat": 4,
 "nbformat_minor": 5
}
