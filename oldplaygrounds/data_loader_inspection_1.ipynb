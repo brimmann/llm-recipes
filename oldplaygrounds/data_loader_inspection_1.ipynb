{
 "cells": [
  {
   "cell_type": "code",
   "execution_count": 1,
   "id": "4d804463",
   "metadata": {},
   "outputs": [],
   "source": [
    "from data.data_utils import get_dataloader\n",
    "from configs.datasets import dataset as DatasetConfig\n",
    "from configs.training import train_config as TrainConfig\n",
    "from configs.distillation import distillation_config as DistillationConfig"
   ]
  },
  {
   "cell_type": "code",
   "execution_count": 2,
   "id": "373c037b",
   "metadata": {},
   "outputs": [],
   "source": [
    "dataset_config = DatasetConfig()\n",
    "train_config = TrainConfig()\n",
    "distill_config = DistillationConfig()\n",
    "train_config.model_name = \"mistralai/Mistral-7B-Instruct-v0.2\"\n",
    "distill_config.model_name = \"EleutherAI/pythia-410m-deduped\"\n",
    "train_config.batch_size_training = 1\n",
    "train_config.num_workers_dataloader = 1\n",
    "dataset_config.file = \"datasets_m/loader/squad.py\""
   ]
  },
  {
   "cell_type": "code",
   "execution_count": null,
   "id": "183e2487",
   "metadata": {},
   "outputs": [],
   "source": [
    "from transformers import AutoTokenizer\n",
    "student_tokenizer = AutoTokenizer.from_pretrained(distill_config.model_name)\n",
    "teacher_tokenizer = AutoTokenizer.from_pretrained(train_config.model_name)\n",
    "student_tokenizer.pad_token_id = student_tokenizer.eos_token_id\n",
    "teacher_tokenizer.pad_token_id = teacher_tokenizer.eos_token_id"
   ]
  },
  {
   "cell_type": "code",
   "execution_count": 4,
   "id": "847b03eb",
   "metadata": {},
   "outputs": [
    {
     "name": "stdout",
     "output_type": "stream",
     "text": [
      "dataset.features: debugging :  {'title': Value(dtype='string', id=None), 'context': Value(dtype='string', id=None), 'question': Value(dtype='string', id=None), 'answers': {'answer_start': Sequence(feature=Value(dtype='int64', id=None), length=-1, id=None), 'text': Sequence(feature=Value(dtype='string', id=None), length=-1, id=None)}, 'answers_generated': Value(dtype='string', id=None)}\n"
     ]
    },
    {
     "data": {
      "application/vnd.jupyter.widget-view+json": {
       "model_id": "708a331608cf4b988e270cd3e706c3a4",
       "version_major": 2,
       "version_minor": 0
      },
      "text/plain": [
       "Map:   0%|          | 0/3 [00:00<?, ? examples/s]"
      ]
     },
     "metadata": {},
     "output_type": "display_data"
    },
    {
     "name": "stdout",
     "output_type": "stream",
     "text": [
      "Few shot is zero\n",
      "Few shot is zero\n",
      "Few shot is zero\n",
      "--> Training Set Length = 3\n",
      "dataset.features: debugging :  {'title': Value(dtype='string', id=None), 'context': Value(dtype='string', id=None), 'question': Value(dtype='string', id=None), 'answers': {'answer_start': Sequence(feature=Value(dtype='int64', id=None), length=-1, id=None), 'text': Sequence(feature=Value(dtype='string', id=None), length=-1, id=None)}, 'answers_generated': Value(dtype='string', id=None)}\n"
     ]
    },
    {
     "data": {
      "application/vnd.jupyter.widget-view+json": {
       "model_id": "1e1d034197f844808ff4546ae1bee9e4",
       "version_major": 2,
       "version_minor": 0
      },
      "text/plain": [
       "Map:   0%|          | 0/1 [00:00<?, ? examples/s]"
      ]
     },
     "metadata": {},
     "output_type": "display_data"
    },
    {
     "name": "stdout",
     "output_type": "stream",
     "text": [
      "Few shot is zero\n",
      "--> Validation Set Length = 1\n"
     ]
    }
   ],
   "source": [
    "student_train_dldr, student_eval_dldr = get_dataloader(dataset_config, train_config, student_tokenizer, 0, distill_config)"
   ]
  },
  {
   "cell_type": "code",
   "execution_count": 5,
   "id": "57ed40d9",
   "metadata": {},
   "outputs": [
    {
     "name": "stdout",
     "output_type": "stream",
     "text": [
      "dataset.features: debugging :  {'title': Value(dtype='string', id=None), 'context': Value(dtype='string', id=None), 'question': Value(dtype='string', id=None), 'answers': {'answer_start': Sequence(feature=Value(dtype='int64', id=None), length=-1, id=None), 'text': Sequence(feature=Value(dtype='string', id=None), length=-1, id=None)}, 'answers_generated': Value(dtype='string', id=None)}\n"
     ]
    },
    {
     "data": {
      "application/vnd.jupyter.widget-view+json": {
       "model_id": "ffde9f69596c4663b28b2e568bdf9be7",
       "version_major": 2,
       "version_minor": 0
      },
      "text/plain": [
       "Map:   0%|          | 0/3 [00:00<?, ? examples/s]"
      ]
     },
     "metadata": {},
     "output_type": "display_data"
    },
    {
     "name": "stdout",
     "output_type": "stream",
     "text": [
      "--> Training Set Length = 3\n",
      "dataset.features: debugging :  {'title': Value(dtype='string', id=None), 'context': Value(dtype='string', id=None), 'question': Value(dtype='string', id=None), 'answers': {'answer_start': Sequence(feature=Value(dtype='int64', id=None), length=-1, id=None), 'text': Sequence(feature=Value(dtype='string', id=None), length=-1, id=None)}, 'answers_generated': Value(dtype='string', id=None)}\n"
     ]
    },
    {
     "data": {
      "application/vnd.jupyter.widget-view+json": {
       "model_id": "68438b86373841c9bec22cea4824bb22",
       "version_major": 2,
       "version_minor": 0
      },
      "text/plain": [
       "Map:   0%|          | 0/1 [00:00<?, ? examples/s]"
      ]
     },
     "metadata": {},
     "output_type": "display_data"
    },
    {
     "name": "stdout",
     "output_type": "stream",
     "text": [
      "--> Validation Set Length = 1\n"
     ]
    }
   ],
   "source": [
    "teacher_train_dldr, teacher_eval_dldr = get_dataloader(dataset_config, train_config, teacher_tokenizer, 0, distill_config)"
   ]
  },
  {
   "cell_type": "code",
   "execution_count": null,
   "id": "2489fa33",
   "metadata": {},
   "outputs": [],
   "source": [
    "len(teacher_train_dldr)"
   ]
  },
  {
   "cell_type": "code",
   "execution_count": 6,
   "id": "a5515e79",
   "metadata": {},
   "outputs": [
    {
     "name": "stderr",
     "output_type": "stream",
     "text": [
      "huggingface/tokenizers: The current process just got forked, after parallelism has already been used. Disabling parallelism to avoid deadlocks...\n",
      "To disable this warning, you can either:\n",
      "\t- Avoid using `tokenizers` before the fork if possible\n",
      "\t- Explicitly set the environment variable TOKENIZERS_PARALLELISM=(true | false)\n",
      "huggingface/tokenizers: The current process just got forked, after parallelism has already been used. Disabling parallelism to avoid deadlocks...\n",
      "To disable this warning, you can either:\n",
      "\t- Avoid using `tokenizers` before the fork if possible\n",
      "\t- Explicitly set the environment variable TOKENIZERS_PARALLELISM=(true | false)\n"
     ]
    }
   ],
   "source": [
    "teacher_item = next(iter(teacher_train_dldr))\n",
    "student_item = next(iter(student_train_dldr))"
   ]
  },
  {
   "cell_type": "code",
   "execution_count": 7,
   "id": "229470a5",
   "metadata": {},
   "outputs": [
    {
     "name": "stdout",
     "output_type": "stream",
     "text": [
      "<s> [INST] You are an agent answering questions as part of a reading comprehension activity. You must read and understand the context text step by step. Answers consist of 0 to 5 words, exclusively continuous words taken from the contextual text provided.\n",
      "\n",
      "Title: Christine's boyfriend\n",
      "Context: Patrick Harris (Tim DeKay), Old Christine's new boyfriend, who she meets in a video store and starts dating.\n",
      "Question: Who played patrick on new adventures of old christine? [/INST] Answer: Tim DeKay</s> [INST] Title: June 14, 2018: Death Row Inmates\n",
      "Context: As of June 14, 2018, there were 2,718 death row inmates in the United States.\n",
      "Question: Total number of death row inmates in the us? [/INST] Answer: 2,718</s> [INST] Title: Modern Communism\n",
      "Context: Most modern forms of communism are grounded at least nominally in Marxism, an ideology conceived by noted sociologist Karl Marx during the mid nineteenth century.\n",
      "Question: Who came up with the idea of communism ? [/INST] Answer: Karl Marx</s> [INST] Title: Time\n",
      "Context: Time has long been a major subject of study in religion, philosophy, and science, but defining it in a manner applicable to all fields without circularity has consistently eluded scholars. Nevertheless, diverse fields such as business, industry, sports, the sciences, and the performing arts all incorporate some notion of time into their respective measuring systems. Some simple definitions of time include \"time is what clocks measure\", which is a problematically vague and self-referential definition that utilizes the device used to measure the subject as the definition of the subject, and \"time is what keeps everything from happening at once\", which is without substantive meaning in the absence of the definition of simultaneity in the context of the limitations of human sensation, observation of events, and the perception of such events.\n",
      "Question: Fields such as business, industry, sports, science, and performing arts incorporate some notion of what into their measuring systems? [/INST] Answer: The notion of time.\n"
     ]
    }
   ],
   "source": [
    "print(teacher_tokenizer.decode(teacher_item[\"input_ids\"][0], skip_special_tokens=False))"
   ]
  },
  {
   "cell_type": "code",
   "execution_count": null,
   "id": "b73a05d2",
   "metadata": {},
   "outputs": [
    {
     "name": "stdout",
     "output_type": "stream",
     "text": [
      "<|endoftext|>Context: Time has long been a major subject of study in religion, philosophy, and science, but defining it in a manner applicable to all fields without circularity has consistently eluded scholars. Nevertheless, diverse fields such as business, industry, sports, the sciences, and the performing arts all incorporate some notion of time into their respective measuring systems. Some simple definitions of time include \"time is what clocks measure\", which is a problematically vague and self-referential definition that utilizes the device used to measure the subject as the definition of the subject, and \"time is what keeps everything from happening at once\", which is without substantive meaning in the absence of the definition of simultaneity in the context of the limitations of human sensation, observation of events, and the perception of such events.\n",
      "Question: Fields such as business, industry, sports, science, and performing arts incorporate some notion of what into their measuring systems?\n",
      "Answer: The notion of time.<|endoftext|>\n"
     ]
    }
   ],
   "source": [
    "print(student_tokenizer.decode(student_item[\"input_ids\"][0], skip_special_tokens=False))"
   ]
  },
  {
   "cell_type": "code",
   "execution_count": 18,
   "id": "4fc3aadd",
   "metadata": {},
   "outputs": [
    {
     "data": {
      "text/plain": [
       "tensor([    0,  5856,    27,  6865,   556,  1048,   644,   247,  2201,  2256,\n",
       "          273,  1263,   275,  9596,    13, 11727,    13,   285,  5859,    13,\n",
       "          533, 13947,   352,   275,   247,  5133,  7763,   281,   512,  4910,\n",
       "         1293, 13765,   414,   556, 12724,  1045, 21015, 12981,    15, 12257,\n",
       "           13, 11117,  4910,   824,   347,  2136,    13,  4491,    13,  9001,\n",
       "           13,   253, 23496,    13,   285,   253,  9591, 14635,   512, 19071,\n",
       "          690, 10732,   273,   673,   715,   616,  9056, 10499,  2718,    15,\n",
       "         3808,  2969, 14308,   273,   673,  2486,   346,  2606,   310,   752,\n",
       "        38620,  2557,   995,   534,   310,   247,  1895,  5372, 21248,   285,\n",
       "         1881,    14,   250, 21870,  5426,   326, 29820,   253,  2813,   908,\n",
       "          281,  2557,   253,  2256,   347,   253,  5426,   273,   253,  2256,\n",
       "           13,   285,   346,  2606,   310,   752, 11359,  3253,   432,  9369,\n",
       "          387,  2378,   995,   534,   310,  1293, 22918,  4495,   275,   253,\n",
       "         5928,   273,   253,  5426,   273,  8257,  1351,   414,   275,   253,\n",
       "         3634,   273,   253,  7364,   273,  1966, 22135,    13,  8310,   273,\n",
       "         3394,    13,   285,   253, 13071,   273,   824,  3394,    15,   187,\n",
       "        23433,    27, 28679,   824,   347,  2136,    13,  4491,    13,  9001,\n",
       "           13,  5859,    13,   285,  9591, 14635, 19071,   690, 10732,   273,\n",
       "          752,   715,   616, 10499,  2718,    32,   187, 32869,    27,   380,\n",
       "        10732,   273,   673,    15,     0])"
      ]
     },
     "execution_count": 18,
     "metadata": {},
     "output_type": "execute_result"
    }
   ],
   "source": [
    "student_item[\"input_ids\"][0]"
   ]
  },
  {
   "cell_type": "code",
   "execution_count": 19,
   "id": "884a95bb",
   "metadata": {},
   "outputs": [
    {
     "data": {
      "text/plain": [
       "tensor([ -100,  -100,  -100,  -100,  -100,  -100,  -100,  -100,  -100,  -100,\n",
       "         -100,  -100,  -100,  -100,  -100,  -100,  -100,  -100,  -100,  -100,\n",
       "         -100,  -100,  -100,  -100,  -100,  -100,  -100,  -100,  -100,  -100,\n",
       "         -100,  -100,  -100,  -100,  -100,  -100,  -100,  -100,  -100,  -100,\n",
       "         -100,  -100,  -100,  -100,  -100,  -100,  -100,  -100,  -100,  -100,\n",
       "         -100,  -100,  -100,  -100,  -100,  -100,  -100,  -100,  -100,  -100,\n",
       "         -100,  -100,  -100,  -100,  -100,  -100,  -100,  -100,  -100,  -100,\n",
       "         -100,  -100,  -100,  -100,  -100,  -100,  -100,  -100,  -100,  -100,\n",
       "         -100,  -100,  -100,  -100,  -100,  -100,  -100,  -100,  -100,  -100,\n",
       "         -100,  -100,  -100,  -100,  -100,  -100,  -100,  -100,  -100,  -100,\n",
       "         -100,  -100,  -100,  -100,  -100,  -100,  -100,  -100,  -100,  -100,\n",
       "         -100,  -100,  -100,  -100,  -100,  -100,  -100,  -100,  -100,  -100,\n",
       "         -100,  -100,  -100,  -100,  -100,  -100,  -100,  -100,  -100,  -100,\n",
       "         -100,  -100,  -100,  -100,  -100,  -100,  -100,  -100,  -100,  -100,\n",
       "         -100,  -100,  -100,  -100,  -100,  -100,  -100,  -100,  -100,  -100,\n",
       "         -100,  -100,  -100,  -100,  -100,  -100,  -100,  -100,  -100,  -100,\n",
       "         -100,  -100,  -100,  -100,  -100,  -100,  -100,  -100,  -100,  -100,\n",
       "         -100,  -100,  -100,  -100,  -100,  -100,  -100,  -100,  -100,  -100,\n",
       "         -100,  -100,  -100,  -100,  -100,  -100,  -100,  -100,  -100,   380,\n",
       "        10732,   273,   673,    15,     0])"
      ]
     },
     "execution_count": 19,
     "metadata": {},
     "output_type": "execute_result"
    }
   ],
   "source": [
    "student_item[\"labels\"][0]"
   ]
  },
  {
   "cell_type": "code",
   "execution_count": null,
   "id": "1ae436bf",
   "metadata": {},
   "outputs": [],
   "source": [
    "print(student_tokenizer.decode(student_item[\"input_ids\"][0], skip_special_tokens=False))"
   ]
  },
  {
   "cell_type": "code",
   "execution_count": 10,
   "id": "7633aa30",
   "metadata": {},
   "outputs": [
    {
     "data": {
      "text/plain": [
       "'<|endoftext|>'"
      ]
     },
     "execution_count": 10,
     "metadata": {},
     "output_type": "execute_result"
    }
   ],
   "source": [
    "student_tokenizer.eos_token"
   ]
  },
  {
   "cell_type": "code",
   "execution_count": null,
   "id": "6e9ea5dd",
   "metadata": {},
   "outputs": [],
   "source": [
    "for item in teacher_train_dldr:\n",
    "    print(teacher_tokenizer.decode(item[\"input_ids\"][0], skip_special_tokens=False))"
   ]
  },
  {
   "cell_type": "code",
   "execution_count": null,
   "id": "c8167ebb",
   "metadata": {},
   "outputs": [],
   "source": [
    "for item in student_train_dldr:\n",
    "    print(student_tokenizer.decode(item[\"input_ids\"][0], skip_special_tokens=False))"
   ]
  }
 ],
 "metadata": {
  "language_info": {
   "name": "python"
  }
 },
 "nbformat": 4,
 "nbformat_minor": 5
}
