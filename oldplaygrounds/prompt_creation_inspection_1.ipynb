{
 "cells": [
  {
   "cell_type": "code",
   "execution_count": 2,
   "id": "aa637329",
   "metadata": {},
   "outputs": [
    {
     "name": "stdout",
     "output_type": "stream",
     "text": [
      "/home/brimmann/works/llm-recipes\n"
     ]
    }
   ],
   "source": [
    "%cd /home/brimmann/works/llm-recipes"
   ]
  },
  {
   "cell_type": "code",
   "execution_count": 3,
   "id": "ed70501c",
   "metadata": {},
   "outputs": [],
   "source": [
    "from datasets_m.loader.squad import get_split"
   ]
  },
  {
   "cell_type": "code",
   "execution_count": 4,
   "id": "108d8cb3",
   "metadata": {},
   "outputs": [],
   "source": [
    "from transformers import AutoTokenizer\n",
    "model_name = \"mistralai/Mistral-7B-Instruct-v0.2\"\n",
    "tokenizer = AutoTokenizer.from_pretrained(model_name)\n",
    "\n",
    "from configs.datasets import dataset\n",
    "dataset_config = dataset()\n",
    "dataset_config.training_size = 1\n",
    "\n",
    "from datasets import load_from_disk\n",
    "dataset = load_from_disk(\"mistral-sqaud-ds\")\n",
    "single_item = dataset.select(range(1))\n"
   ]
  },
  {
   "cell_type": "code",
   "execution_count": 5,
   "id": "69e0e6e0",
   "metadata": {},
   "outputs": [],
   "source": [
    "from prompt.prompt import create_chat_prompt"
   ]
  },
  {
   "cell_type": "code",
   "execution_count": 6,
   "id": "f192e747",
   "metadata": {},
   "outputs": [],
   "source": [
    "task = \"qa\"\n",
    "title= \"example_title\"\n",
    "context = single_item[\"context\"]\n",
    "question = single_item[\"question\"]\n",
    "sys_user = True\n",
    "chat_template = tokenizer.apply_chat_template"
   ]
  },
  {
   "cell_type": "code",
   "execution_count": 7,
   "id": "de252cf8",
   "metadata": {},
   "outputs": [
    {
     "data": {
      "text/plain": [
       "['Time has long been a major subject of study in religion, philosophy, and science, but defining it in a manner applicable to all fields without circularity has consistently eluded scholars. Nevertheless, diverse fields such as business, industry, sports, the sciences, and the performing arts all incorporate some notion of time into their respective measuring systems. Some simple definitions of time include \"time is what clocks measure\", which is a problematically vague and self-referential definition that utilizes the device used to measure the subject as the definition of the subject, and \"time is what keeps everything from happening at once\", which is without substantive meaning in the absence of the definition of simultaneity in the context of the limitations of human sensation, observation of events, and the perception of such events.']"
      ]
     },
     "execution_count": 7,
     "metadata": {},
     "output_type": "execute_result"
    }
   ],
   "source": [
    "single_item[\"context\"]"
   ]
  },
  {
   "cell_type": "code",
   "execution_count": 8,
   "id": "3768718d",
   "metadata": {},
   "outputs": [
    {
     "data": {
      "text/plain": [
       "['Time has long been a major point of study in which fields?']"
      ]
     },
     "execution_count": 8,
     "metadata": {},
     "output_type": "execute_result"
    }
   ],
   "source": [
    "single_item[\"question\"]"
   ]
  },
  {
   "cell_type": "code",
   "execution_count": 9,
   "id": "979917fe",
   "metadata": {},
   "outputs": [],
   "source": [
    "prompt = create_chat_prompt(\n",
    "    task,\n",
    "    3,\n",
    "    title=title,\n",
    "    context=context,\n",
    "    question=question,\n",
    "    sys_user=sys_user,\n",
    "    chat_template=chat_template\n",
    ")"
   ]
  },
  {
   "cell_type": "code",
   "execution_count": 10,
   "id": "56243a6c",
   "metadata": {},
   "outputs": [
    {
     "data": {
      "text/plain": [
       "'<s> [INST] You are an agent answering questions as part of a reading comprehension activity. You must read and understand the context text step by step. Answers consist of 0 to 5 words, exclusively continuous words taken from the contextual text provided.\\n\\nTitle: Christine\\'s boyfriend\\nContext: Patrick Harris (Tim DeKay), Old Christine\\'s new boyfriend, who she meets in a video store and starts dating.\\nQuestion: Who played patrick on new adventures of old christine? [/INST] Answer: Tim DeKay</s> [INST] Title: June 14, 2018: Death Row Inmates\\nContext: As of June 14, 2018, there were 2,718 death row inmates in the United States.\\nQuestion: Total number of death row inmates in the us? [/INST] Answer: 2,718</s> [INST] Title: Modern Communism\\nContext: Most modern forms of communism are grounded at least nominally in Marxism, an ideology conceived by noted sociologist Karl Marx during the mid nineteenth century.\\nQuestion: Who came up with the idea of communism ? [/INST] Answer: Karl Marx</s> [INST] Title: example_title\\nContext: [\\'Time has long been a major subject of study in religion, philosophy, and science, but defining it in a manner applicable to all fields without circularity has consistently eluded scholars. Nevertheless, diverse fields such as business, industry, sports, the sciences, and the performing arts all incorporate some notion of time into their respective measuring systems. Some simple definitions of time include \"time is what clocks measure\", which is a problematically vague and self-referential definition that utilizes the device used to measure the subject as the definition of the subject, and \"time is what keeps everything from happening at once\", which is without substantive meaning in the absence of the definition of simultaneity in the context of the limitations of human sensation, observation of events, and the perception of such events.\\']\\nQuestion: [\\'Time has long been a major point of study in which fields?\\'] [/INST] Answer:'"
      ]
     },
     "execution_count": 10,
     "metadata": {},
     "output_type": "execute_result"
    }
   ],
   "source": [
    "prompt"
   ]
  },
  {
   "cell_type": "code",
   "execution_count": 11,
   "id": "84815bc9",
   "metadata": {},
   "outputs": [
    {
     "data": {
      "text/plain": [
       "1977"
      ]
     },
     "execution_count": 11,
     "metadata": {},
     "output_type": "execute_result"
    }
   ],
   "source": [
    "from pathlib import Path\n",
    "Path(\"3_shot_promp_mistra.txt\").write_text(prompt)"
   ]
  },
  {
   "cell_type": "code",
   "execution_count": 15,
   "id": "734ee076",
   "metadata": {},
   "outputs": [
    {
     "name": "stdout",
     "output_type": "stream",
     "text": [
      "Few shot is zero\n"
     ]
    }
   ],
   "source": [
    "from prompt.prompt import create_prompt\n",
    "prompt2 = create_prompt(\n",
    "    task,\n",
    "    0,\n",
    "    context=context,\n",
    "    question=question\n",
    ")"
   ]
  },
  {
   "cell_type": "code",
   "execution_count": 16,
   "id": "a8a3128d",
   "metadata": {},
   "outputs": [
    {
     "data": {
      "text/plain": [
       "943"
      ]
     },
     "execution_count": 16,
     "metadata": {},
     "output_type": "execute_result"
    }
   ],
   "source": [
    "from pathlib import Path\n",
    "Path(\"0_shot_promp_non_instruct.txt\").write_text(prompt2)"
   ]
  },
  {
   "cell_type": "code",
   "execution_count": 30,
   "id": "c84ca3ac",
   "metadata": {},
   "outputs": [],
   "source": [
    "context_tokens = tokenizer.encode(f\"my prompt\", add_special_tokens=False)"
   ]
  },
  {
   "cell_type": "code",
   "execution_count": 31,
   "id": "2fbd4a62",
   "metadata": {},
   "outputs": [
    {
     "data": {
      "text/plain": [
       "[586, 11510]"
      ]
     },
     "execution_count": 31,
     "metadata": {},
     "output_type": "execute_result"
    }
   ],
   "source": [
    "context_tokens"
   ]
  },
  {
   "cell_type": "code",
   "execution_count": 32,
   "id": "ead542e4",
   "metadata": {},
   "outputs": [],
   "source": [
    "answers_generated = single_item[\"answers_generated\"]"
   ]
  },
  {
   "cell_type": "code",
   "execution_count": 26,
   "id": "0e138294",
   "metadata": {},
   "outputs": [],
   "source": [
    "answer_tokens = tokenizer.encode(f\"{answers_generated}\", add_special_tokens=False)"
   ]
  },
  {
   "cell_type": "code",
   "execution_count": 33,
   "id": "75a6bd23",
   "metadata": {},
   "outputs": [
    {
     "data": {
      "text/plain": [
       "[5936, 7523, 326, 296, 28725, 13795, 28725, 304, 6691, 28723, 1421]"
      ]
     },
     "execution_count": 33,
     "metadata": {},
     "output_type": "execute_result"
    }
   ],
   "source": [
    "answer_tokens"
   ]
  },
  {
   "cell_type": "code",
   "execution_count": 34,
   "id": "594869ca",
   "metadata": {},
   "outputs": [],
   "source": [
    "labels_tokens = (len(context_tokens)*[-100,])+answer_tokens"
   ]
  },
  {
   "cell_type": "code",
   "execution_count": 35,
   "id": "a11900f9",
   "metadata": {},
   "outputs": [
    {
     "data": {
      "text/plain": [
       "[-100, -100, 5936, 7523, 326, 296, 28725, 13795, 28725, 304, 6691, 28723, 1421]"
      ]
     },
     "execution_count": 35,
     "metadata": {},
     "output_type": "execute_result"
    }
   ],
   "source": [
    "labels_tokens"
   ]
  }
 ],
 "metadata": {
  "kernelspec": {
   "display_name": ".venv",
   "language": "python",
   "name": "python3"
  },
  "language_info": {
   "codemirror_mode": {
    "name": "ipython",
    "version": 3
   },
   "file_extension": ".py",
   "mimetype": "text/x-python",
   "name": "python",
   "nbconvert_exporter": "python",
   "pygments_lexer": "ipython3",
   "version": "3.9.23"
  }
 },
 "nbformat": 4,
 "nbformat_minor": 5
}
