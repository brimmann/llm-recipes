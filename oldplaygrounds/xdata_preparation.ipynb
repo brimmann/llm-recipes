{
 "cells": [
  {
   "cell_type": "code",
   "execution_count": 1,
   "id": "4a2f842d",
   "metadata": {},
   "outputs": [
    {
     "name": "stderr",
     "output_type": "stream",
     "text": [
      "/home/brimmann/works/llm-recipes/models/checkpoint_handler.py:7: DeprecationWarning: `torch.distributed._shard.checkpoint` will be deprecated, use `torch.distributed.checkpoint` instead\n",
      "  import torch.distributed._shard.checkpoint as dist_cp\n",
      "/home/brimmann/works/llm-recipes/models/tools.py:5: UserWarning: pkg_resources is deprecated as an API. See https://setuptools.pypa.io/en/latest/pkg_resources.html. The pkg_resources package is slated for removal as early as 2025-11-30. Refrain from using this package or pin to Setuptools<81.\n",
      "  from pkg_resources import packaging\n"
     ]
    }
   ],
   "source": [
    "from data.data_utils import get_distillation_dataloader\n",
    "from models.models_utils import get_distillation_models\n",
    "from configs import dataset as DATA_CONFIG\n",
    "from configs import fsdp_config as FSDP_CONFIG\n",
    "from configs import train_config as TRAIN_CONFIG\n",
    "from configs import distillation_config as DISTIL_CONFIG"
   ]
  },
  {
   "cell_type": "code",
   "execution_count": 2,
   "id": "d9561bb4",
   "metadata": {},
   "outputs": [],
   "source": [
    "train_config, fsdp_config, distil_config, data_config = TRAIN_CONFIG(), FSDP_CONFIG(), DISTIL_CONFIG(), DATA_CONFIG()"
   ]
  },
  {
   "cell_type": "code",
   "execution_count": 3,
   "id": "f7ce13f4",
   "metadata": {},
   "outputs": [],
   "source": [
    "args_dict = {'model_name': 'EleutherAI/pythia-410m-deduped', 'dataset.file': 'datasets-m/loader/squad.py', 'lr': 1e-06, 'num_epochs': 5, 'batch_size_training': 1, 'val_batch_size': 1, 'output_dir': 'train/output/path', 'distillation_config.model_name': 'mistralai/Mistral-7B-Instruct-v0.2', 'distillation': True, 'distillation_config.enable_fsdp': False, 'distillation_config.pure_bf16': True, 'distillation_config.distil_factor': 1.5, 'save_step': 100, }"
   ]
  },
  {
   "cell_type": "code",
   "execution_count": 4,
   "id": "d46b5642",
   "metadata": {},
   "outputs": [],
   "source": [
    "def update_config(config, update_dict, isSubmodule=False):\n",
    "    if isinstance(config, (tuple, list)):\n",
    "        for c in config:\n",
    "            update_config(c, update_dict, isSubmodule)\n",
    "    else:\n",
    "        for k, v in update_dict.items():\n",
    "            if \".\" in k:\n",
    "                config_name, param_name = k.split(\".\", 1)\n",
    "                if type(config).__name__ == config_name:\n",
    "                    if hasattr(config, param_name):\n",
    "                        setattr(config, param_name, v)\n",
    "            elif not isSubmodule and hasattr(config, k):\n",
    "                setattr(config, k, v)\n"
   ]
  },
  {
   "cell_type": "code",
   "execution_count": 5,
   "id": "79df8226",
   "metadata": {},
   "outputs": [],
   "source": [
    "update_config((train_config, fsdp_config, data_config), args_dict)\n",
    "update_config((distil_config), args_dict, isSubmodule=True,)"
   ]
  },
  {
   "cell_type": "code",
   "execution_count": 6,
   "id": "1cd2e102",
   "metadata": {},
   "outputs": [
    {
     "name": "stderr",
     "output_type": "stream",
     "text": [
      "The `GPTNeoXSdpaAttention` class is deprecated in favor of simply modifying the `config._attn_implementation`attribute of the `GPTNeoXAttention` class! It will be removed in v4.48\n"
     ]
    },
    {
     "name": "stdout",
     "output_type": "stream",
     "text": [
      "--> Model EleutherAI/pythia-410m-deduped\n",
      "\n",
      "--> EleutherAI/pythia-410m-deduped has 405.334016 Million params\n",
      "\n"
     ]
    },
    {
     "data": {
      "application/vnd.jupyter.widget-view+json": {
       "model_id": "7dcb70eb43bc4dabbeb98f8d53b1d60c",
       "version_major": 2,
       "version_minor": 0
      },
      "text/plain": [
       "Loading checkpoint shards:   0%|          | 0/3 [00:00<?, ?it/s]"
      ]
     },
     "metadata": {},
     "output_type": "display_data"
    },
    {
     "ename": "",
     "evalue": "",
     "output_type": "error",
     "traceback": [
      "\u001b[1;31mThe Kernel crashed while executing code in the current cell or a previous cell. \n",
      "\u001b[1;31mPlease review the code in the cell(s) to identify a possible cause of the failure. \n",
      "\u001b[1;31mClick <a href='https://aka.ms/vscodeJupyterKernelCrash'>here</a> for more info. \n",
      "\u001b[1;31mView Jupyter <a href='command:jupyter.viewOutput'>log</a> for further details."
     ]
    }
   ],
   "source": [
    "student_tokenizer, teacher_tokenizer, model = get_distillation_models(train_config, distil_config, fsdp_config, 0, args_dict)"
   ]
  },
  {
   "cell_type": "code",
   "execution_count": null,
   "id": "186d7984",
   "metadata": {},
   "outputs": [],
   "source": [
    "train_dataloader, teacher_train_dataloader, eval_dataloader, teacher_eval_dataloader = get_distillation_dataloader(data_config, train_config, distil_config, student_tokenizer, teacher_tokenizer, 0)"
   ]
  },
  {
   "cell_type": "code",
   "execution_count": 1,
   "id": "26e50aef",
   "metadata": {},
   "outputs": [],
   "source": [
    "from datasets import load_from_disk\n",
    "d = load_from_disk(\"mistral-sqaud-ds\")"
   ]
  },
  {
   "cell_type": "code",
   "execution_count": 2,
   "id": "e314986f",
   "metadata": {},
   "outputs": [
    {
     "data": {
      "text/plain": [
       "Dataset({\n",
       "    features: ['context', 'question', 'answers', 'answers_generated'],\n",
       "    num_rows: 5\n",
       "})"
      ]
     },
     "execution_count": 2,
     "metadata": {},
     "output_type": "execute_result"
    }
   ],
   "source": [
    "d"
   ]
  },
  {
   "cell_type": "code",
   "execution_count": 4,
   "id": "3e4832bf",
   "metadata": {},
   "outputs": [
    {
     "name": "stdout",
     "output_type": "stream",
     "text": [
      "{'context': 'Time has long been a major subject of study in religion, philosophy, and science, but defining it in a manner applicable to all fields without circularity has consistently eluded scholars. Nevertheless, diverse fields such as business, industry, sports, the sciences, and the performing arts all incorporate some notion of time into their respective measuring systems. Some simple definitions of time include \"time is what clocks measure\", which is a problematically vague and self-referential definition that utilizes the device used to measure the subject as the definition of the subject, and \"time is what keeps everything from happening at once\", which is without substantive meaning in the absence of the definition of simultaneity in the context of the limitations of human sensation, observation of events, and the perception of such events.', 'question': 'Time has long been a major point of study in which fields?', 'answers': {'answer_start': [47], 'text': ['religion, philosophy, and science']}, 'answers_generated': 'Religion, philosophy, and science.'}\n",
      "{'context': 'Time has long been a major subject of study in religion, philosophy, and science, but defining it in a manner applicable to all fields without circularity has consistently eluded scholars. Nevertheless, diverse fields such as business, industry, sports, the sciences, and the performing arts all incorporate some notion of time into their respective measuring systems. Some simple definitions of time include \"time is what clocks measure\", which is a problematically vague and self-referential definition that utilizes the device used to measure the subject as the definition of the subject, and \"time is what keeps everything from happening at once\", which is without substantive meaning in the absence of the definition of simultaneity in the context of the limitations of human sensation, observation of events, and the perception of such events.', 'question': 'Fields such as business, industry, sports, science, and performing arts incorporate some notion of what into their measuring systems?', 'answers': {'answer_start': [323], 'text': ['time']}, 'answers_generated': 'The notion of time.'}\n",
      "{'context': 'Time has long been a major subject of study in religion, philosophy, and science, but defining it in a manner applicable to all fields without circularity has consistently eluded scholars. Nevertheless, diverse fields such as business, industry, sports, the sciences, and the performing arts all incorporate some notion of time into their respective measuring systems. Some simple definitions of time include \"time is what clocks measure\", which is a problematically vague and self-referential definition that utilizes the device used to measure the subject as the definition of the subject, and \"time is what keeps everything from happening at once\", which is without substantive meaning in the absence of the definition of simultaneity in the context of the limitations of human sensation, observation of events, and the perception of such events.', 'question': 'What is an example of a simple definition of time?', 'answers': {'answer_start': [410], 'text': ['time is what clocks measure']}, 'answers_generated': '\"Time is what clocks measure.\"'}\n",
      "{'context': 'Time has long been a major subject of study in religion, philosophy, and science, but defining it in a manner applicable to all fields without circularity has consistently eluded scholars. Nevertheless, diverse fields such as business, industry, sports, the sciences, and the performing arts all incorporate some notion of time into their respective measuring systems. Some simple definitions of time include \"time is what clocks measure\", which is a problematically vague and self-referential definition that utilizes the device used to measure the subject as the definition of the subject, and \"time is what keeps everything from happening at once\", which is without substantive meaning in the absence of the definition of simultaneity in the context of the limitations of human sensation, observation of events, and the perception of such events.', 'question': 'Which three fields usually support performing arts?', 'answers': {'answer_start': [], 'text': []}, 'answers_generated': 'Industry, business, and the performing arts.'}\n",
      "{'context': 'Time has long been a major subject of study in religion, philosophy, and science, but defining it in a manner applicable to all fields without circularity has consistently eluded scholars. Nevertheless, diverse fields such as business, industry, sports, the sciences, and the performing arts all incorporate some notion of time into their respective measuring systems. Some simple definitions of time include \"time is what clocks measure\", which is a problematically vague and self-referential definition that utilizes the device used to measure the subject as the definition of the subject, and \"time is what keeps everything from happening at once\", which is without substantive meaning in the absence of the definition of simultaneity in the context of the limitations of human sensation, observation of events, and the perception of such events.', 'question': 'What fields use measuring systems to check the weight of their products?', 'answers': {'answer_start': [], 'text': []}, 'answers_generated': 'The fields mentioned in the text that use measuring systems are business, industry, and the sciences. However, none of them use measuring systems specifically to check the weight of their products. The text only mentions that they incorporate some notion of time into their measuring systems.'}\n"
     ]
    }
   ],
   "source": [
    "for it in d:\n",
    "    print(it)"
   ]
  },
  {
   "cell_type": "code",
   "execution_count": null,
   "id": "a96873b9",
   "metadata": {},
   "outputs": [],
   "source": []
  }
 ],
 "metadata": {
  "kernelspec": {
   "display_name": ".venv",
   "language": "python",
   "name": "python3"
  },
  "language_info": {
   "codemirror_mode": {
    "name": "ipython",
    "version": 3
   },
   "file_extension": ".py",
   "mimetype": "text/x-python",
   "name": "python",
   "nbconvert_exporter": "python",
   "pygments_lexer": "ipython3",
   "version": "3.9.23"
  }
 },
 "nbformat": 4,
 "nbformat_minor": 5
}
