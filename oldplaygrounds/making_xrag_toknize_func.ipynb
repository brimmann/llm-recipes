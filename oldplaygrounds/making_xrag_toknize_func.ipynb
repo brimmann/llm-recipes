{
 "cells": [
  {
   "cell_type": "code",
   "execution_count": 1,
   "id": "fa65ecb0",
   "metadata": {},
   "outputs": [],
   "source": [
    "def create_xmistral_prompt():\n",
    "    return \"Background: {xrag_token}, which also means:\""
   ]
  },
  {
   "cell_type": "code",
   "execution_count": null,
   "id": "8ebed101",
   "metadata": {},
   "outputs": [],
   "source": []
  },
  {
   "cell_type": "code",
   "execution_count": null,
   "id": "054ef4da",
   "metadata": {},
   "outputs": [],
   "source": [
    "def tokenize_xrag(item, tokenizer, model_tag):\n",
    "    if model_tag == \"xmistral\":\n",
    "        prompt = \"[INST] Background: {xrag_token}, which also means:[/INST]\"\n",
    "    elif model_tag == \"xgemma3\":\n",
    "        \"<start_of_turn>user\\nBackground: <xRAG>, which also means:<end_of_turn>\"\n",
    "    \n",
    "\n",
    "    context_tokens = tokenizer.encode(f\"{prompt}\", add_special_tokens=False)\n",
    "    answer_tokens = tokenizer.encode(f\"{item[\"generated_answer\"]}\", add_special_tokens=False)\n",
    "\n",
    "    prompt_tokens = context_tokens+answer_tokens\n",
    "    labels_tokens = (len(context_tokens)*[-100,])+answer_tokens\n",
    "\n",
    "    combined_tokens = {\n",
    "                \"input_ids\": prompt_tokens,\n",
    "                \"labels\": labels_tokens\n",
    "    }\n",
    "    return dict(combined_tokens, attention_mask=[1]*len(combined_tokens[\"input_ids\"]))"
   ]
  }
 ],
 "metadata": {
  "kernelspec": {
   "display_name": ".venv",
   "language": "python",
   "name": "python3"
  },
  "language_info": {
   "codemirror_mode": {
    "name": "ipython",
    "version": 3
   },
   "file_extension": ".py",
   "mimetype": "text/x-python",
   "name": "python",
   "nbconvert_exporter": "python",
   "pygments_lexer": "ipython3",
   "version": "3.9.23"
  }
 },
 "nbformat": 4,
 "nbformat_minor": 5
}
