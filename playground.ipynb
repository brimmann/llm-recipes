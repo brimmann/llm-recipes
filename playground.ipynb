{
 "cells": [
  {
   "cell_type": "code",
   "execution_count": 2,
   "id": "5a63dbe6",
   "metadata": {},
   "outputs": [],
   "source": [
    "from data.data_utils import get_distillation_dataloader"
   ]
  },
  {
   "cell_type": "code",
   "execution_count": 3,
   "id": "ab19dfe5",
   "metadata": {},
   "outputs": [],
   "source": [
    "from configs import dataset as DATA_CONFIG\n",
    "from configs import fsdp_config as FSDP_CONFIG\n",
    "from configs import train_config as TRAIN_CONFIG\n",
    "from configs import distillation_config as DISTIL_CONFIG"
   ]
  },
  {
   "cell_type": "code",
   "execution_count": 4,
   "id": "e1e491c9",
   "metadata": {},
   "outputs": [],
   "source": [
    "train_config, fsdp_config, distil_config, data_config = TRAIN_CONFIG(), FSDP_CONFIG(), DISTIL_CONFIG(), DATA_CONFIG()\n"
   ]
  },
  {
   "cell_type": "code",
   "execution_count": null,
   "id": "f977da22",
   "metadata": {},
   "outputs": [],
   "source": [
    "args_dict = {'model_name': 'EleutherAI/pythia-410m-deduped', 'dataset.file': 'datasets/loader/squad.py', 'lr': 1e-06, 'num_epochs': 5, 'batch_size_training': 4, 'val_batch_size': 4, 'output_dir': 'train/output/path', 'distillation_config.model_name': 'meta-llama/Llama-2-7b-chat-hf', 'distillation': True, 'distillation_config.enable_fsdp': True, 'distillation_config.pure_bf16': True, 'distillation_config.distil_factor': 1.5, 'save_step': 100}"
   ]
  },
  {
   "cell_type": "code",
   "execution_count": null,
   "id": "dfb04474",
   "metadata": {},
   "outputs": [],
   "source": [
    "train_dataloader, teacher_train_dataloader, eval_dataloader, teacher_eval_dataloader = get_distillation_dataloader(data_config, train_config, distil_config, student_tokenizer, teacher_tokenizer, rank)"
   ]
  }
 ],
 "metadata": {
  "kernelspec": {
   "display_name": ".venv",
   "language": "python",
   "name": "python3"
  },
  "language_info": {
   "codemirror_mode": {
    "name": "ipython",
    "version": 3
   },
   "file_extension": ".py",
   "mimetype": "text/x-python",
   "name": "python",
   "nbconvert_exporter": "python",
   "pygments_lexer": "ipython3",
   "version": "3.9.23"
  }
 },
 "nbformat": 4,
 "nbformat_minor": 5
}
