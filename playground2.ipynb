{
 "cells": [
  {
   "cell_type": "code",
   "execution_count": 2,
   "id": "c2db75c4",
   "metadata": {},
   "outputs": [
    {
     "name": "stderr",
     "output_type": "stream",
     "text": [
      "/home/brimmann/works/llm-recipes/models/tools.py:5: UserWarning: pkg_resources is deprecated as an API. See https://setuptools.pypa.io/en/latest/pkg_resources.html. The pkg_resources package is slated for removal as early as 2025-11-30. Refrain from using this package or pin to Setuptools<81.\n",
      "  from pkg_resources import packaging\n"
     ]
    }
   ],
   "source": [
    "from models.models_utils import get_distillation_models"
   ]
  },
  {
   "cell_type": "code",
   "execution_count": 3,
   "id": "7d8f4b19",
   "metadata": {},
   "outputs": [],
   "source": [
    "from configs.datasets import dataset as DatasetConfig\n",
    "from configs.training import train_config as TrainConfig\n",
    "from configs.distillation import distillation_config as DistillationConfig\n",
    "from configs.fsdp import fsdp_config as FsdpConfig"
   ]
  },
  {
   "cell_type": "code",
   "execution_count": 5,
   "id": "88f238b0",
   "metadata": {},
   "outputs": [],
   "source": [
    "dataset_config = DatasetConfig()\n",
    "train_config = TrainConfig()\n",
    "distill_config = DistillationConfig()\n",
    "fsdp_config = DistillationConfig()\n",
    "train_config.model_name = \"google/gemma-3-1b-it\"\n",
    "distill_config.model_name = \"Hannibal046/xrag-7b\"\n",
    "distill_config.xrag = True\n",
    "train_config.batch_size_training = 1\n",
    "train_config.num_workers_dataloader = 1\n",
    "dataset_config.file = \"datasets_m/loader/squad.py\"\n",
    "dataset_config.xrag = True"
   ]
  },
  {
   "cell_type": "code",
   "execution_count": null,
   "id": "ae95f1ec",
   "metadata": {},
   "outputs": [],
   "source": [
    "student_tokenizer, teacher_tokenizer, model = get_distillation_models(train_config, distill_config, fsdp_config, 0, {})"
   ]
  }
 ],
 "metadata": {
  "kernelspec": {
   "display_name": ".venv",
   "language": "python",
   "name": "python3"
  },
  "language_info": {
   "codemirror_mode": {
    "name": "ipython",
    "version": 3
   },
   "file_extension": ".py",
   "mimetype": "text/x-python",
   "name": "python",
   "nbconvert_exporter": "python",
   "pygments_lexer": "ipython3",
   "version": "3.9.23"
  }
 },
 "nbformat": 4,
 "nbformat_minor": 5
}
